{
 "cells": [
  {
   "cell_type": "code",
   "execution_count": 1,
   "metadata": {},
   "outputs": [
    {
     "name": "stdout",
     "output_type": "stream",
     "text": [
      "^C\n",
      "\u001b[31mERROR: Operation cancelled by user\u001b[0m\u001b[31m\n",
      "\u001b[0m\n",
      "\u001b[1m[\u001b[0m\u001b[34;49mnotice\u001b[0m\u001b[1;39;49m]\u001b[0m\u001b[39;49m A new release of pip available: \u001b[0m\u001b[31;49m22.2.2\u001b[0m\u001b[39;49m -> \u001b[0m\u001b[32;49m23.0.1\u001b[0m\n",
      "\u001b[1m[\u001b[0m\u001b[34;49mnotice\u001b[0m\u001b[1;39;49m]\u001b[0m\u001b[39;49m To update, run: \u001b[0m\u001b[32;49mpip install --upgrade pip\u001b[0m\n",
      "mkdir: /Users/ulric/.kaggle: File exists\n",
      "nfl-big-data-bowl-2022.zip: Skipping, found more recently modified local copy (use --force to force download)\n",
      "unzip:  cannot find or open content/nfl-big-data-bowl-2022.zip, content/nfl-big-data-bowl-2022.zip.zip or content/nfl-big-data-bowl-2022.zip.ZIP.\n"
     ]
    }
   ],
   "source": [
    "# imports\n",
    "from IPython.display import clear_output\n",
    "from PIL import Image\n",
    "import os\n",
    "import json\n",
    "# clear\n",
    "clear_output(wait=True)\n",
    "# installing kaggle\n",
    "!pip install -q kaggle\n",
    "# user and key info\n",
    "info = {\"username\":\"jackbellamy\",\"key\":\"3442898ba5e904ac3a48eb5b59398805\"}\n",
    "# opening file\n",
    "json_object = json.dumps(info, indent=4)\n",
    "with open(\"kaggle.json\", \"w\") as outfile:\n",
    "    outfile.write(json_object)\n",
    "!mkdir ~/.kaggle\n",
    "!cp kaggle.json ~/.kaggle/\n",
    "!chmod 600 ~/.kaggle/kaggle.json\n",
    "# copying data to content file of kaggle which can be found on the left hand side of the screen\n",
    "if not (os.path.exists(\"/content/nfl-big-data-bowl-2022\")):\n",
    "  !kaggle competitions download -c nfl-big-data-bowl-2022\n",
    "  !mkdir nfl-big-data-bowl-2022\n",
    "  !unzip content/nfl-big-data-bowl-2022.zip -d nfl-big-data-bowl-2022"
   ]
  },
  {
   "cell_type": "code",
   "execution_count": 3,
   "metadata": {
    "collapsed": false,
    "jupyter": {
     "outputs_hidden": false
    }
   },
   "outputs": [],
   "source": [
    "import pandas as pd\n",
    "# reading the data to variables\n",
    "scouting = pd.read_csv(\"content/nfl-big-data-bowl-2022/PFFScoutingData.csv\")\n",
    "games = pd.read_csv(\"content/nfl-big-data-bowl-2022/games.csv\")\n",
    "players = pd.read_csv(\"content/nfl-big-data-bowl-2022/players.csv\")\n",
    "plays = pd.read_csv(\"content/nfl-big-data-bowl-2022/plays.csv\")\n",
    "tracking2018 = pd.read_csv(\"content/nfl-big-data-bowl-2022/tracking2018.csv\")\n",
    "tracking2019 = pd.read_csv(\"content/nfl-big-data-bowl-2022/tracking2019.csv\")\n",
    "tracking2020 = pd.read_csv(\"content/nfl-big-data-bowl-2022/tracking2020.csv\")"
   ]
  },
  {
   "cell_type": "code",
   "execution_count": 4,
   "metadata": {
    "collapsed": false,
    "jupyter": {
     "outputs_hidden": false
    }
   },
   "outputs": [],
   "source": [
    "def abbrvs(csv,column,abbrv,fullname):\n",
    "  # new names\n",
    "  type_name = []\n",
    "  # looping through\n",
    "  for i in csv[column]:\n",
    "    # filtering out NaN values\n",
    "    if i in abbrv:\n",
    "      index = abbrv.index(i)\n",
    "      type_name.append(fullname[index])\n",
    "    else:\n",
    "      type_name.append(i)\n",
    "  return type_name\n",
    "\n",
    "\n",
    "def team_number_splitting(csv,column,symbol):\n",
    "  # splitting to team and number\n",
    "  split_team = []\n",
    "  split_numbers = []\n",
    "  # splitting the data\n",
    "  split = csv[column].str.split(symbol, expand = True)\n",
    "  # loop for each\n",
    "  for i in range(0,len(csv)):\n",
    "    # specific data\n",
    "    split.iloc[i]\n",
    "    # number of NaN\n",
    "    nan_num = split.iloc[i].isna().sum()\n",
    "    max = len(split.iloc[i])\n",
    "    if max-nan_num == 0:\n",
    "      split_team.append(csv[column][i])\n",
    "      split_numbers.append(csv[column][i])\n",
    "    else:\n",
    "      info = []\n",
    "      for j in range(0,(max-nan_num)):\n",
    "        split_i = split[j][i].split(\" \")\n",
    "        info.append(split_i)\n",
    "      # team name\n",
    "      split_team.append(info[0][0])\n",
    "      # numbers\n",
    "      nums = []\n",
    "      for k in range(0,max-nan_num):\n",
    "        num = info[k][1]\n",
    "        nums.append(num)\n",
    "      split_numbers.append(nums)\n",
    "  return split_team,split_numbers\n",
    "\n",
    "\n",
    "def number_splitting(csv,column,symbol,n):\n",
    "  split = csv[column].str.split(symbol, n = n, expand = True)\n",
    "  return split\n",
    "\n",
    "\n",
    "def pd_to_num(csv,split,column_names):\n",
    "  split.columns = column_names\n",
    "  # adding columns\n",
    "  for name in column_names:\n",
    "    csv[name] = pd.to_numeric(split[name])\n",
    "  return"
   ]
  },
  {
   "cell_type": "code",
   "execution_count": 5,
   "metadata": {
    "collapsed": false,
    "jupyter": {
     "outputs_hidden": false
    }
   },
   "outputs": [],
   "source": [
    "# abbreviations\n",
    "# 'kickType'\n",
    "csv = scouting\n",
    "column = \"kickType\"\n",
    "kick_types = ['D','F','K','O','P','Q','S','B','N','R','A']\n",
    "kick_type_names = ['Deep','Flat','Free','Obvious','Pooch','Squib','Surprise','Deep','Normal','Rugby','Aussie']\n",
    "# calling function\n",
    "kick_type_fullnames = abbrvs(csv,column,kick_types,kick_type_names)\n",
    "# adding column\n",
    "scouting[\"kick_type_name\"] = kick_type_fullnames\n",
    "\n",
    "# 'kickDirectionIntended', 'kickDirectionActual', 'returnDirectIntended', 'returnDirectionActual', 'KickTypeContact'"
   ]
  },
  {
   "cell_type": "code",
   "execution_count": 6,
   "metadata": {
    "collapsed": false,
    "jupyter": {
     "outputs_hidden": false
    }
   },
   "outputs": [],
   "source": [
    "# team and numbers\n",
    "# 'missedTackler'\n",
    "csv = scouting\n",
    "\n",
    "column = \"missedTackler\"\n",
    "symbol = \"; \"\n",
    "# calling function\n",
    "missed_tackler_team, missed_tackler_numbers = team_number_splitting(csv,column,symbol)\n",
    "# adding\n",
    "scouting[\"missed_tackler_team\"] = missed_tackler_team\n",
    "scouting[\"missed_tackler_numbers\"] = missed_tackler_numbers\n",
    "\n",
    "# 'specialTeamsSafeties'\n",
    "column = \"specialTeamsSafeties\"\n",
    "symbol = \"; \"\n",
    "# calling function\n",
    "specialTeamsSafeties_team, specialTeamsSafeties_numbers = team_number_splitting(csv,column,symbol)\n",
    "# adding\n",
    "scouting[\"special_teams_safeties_team\"] = specialTeamsSafeties_team\n",
    "scouting[\"special_teams_safeties_numbers\"] = specialTeamsSafeties_numbers\n",
    "\n",
    "# 'Vises'\n",
    "column = \"vises\"\n",
    "symbol = \"; \"\n",
    "# calling function\n",
    "vises_team, vises_numbers = team_number_splitting(csv,column,symbol)\n",
    "# adding\n",
    "scouting[\"vises_team\"] = vises_team\n",
    "scouting[\"vises_numbers\"] = vises_numbers"
   ]
  },
  {
   "cell_type": "code",
   "execution_count": 7,
   "metadata": {
    "collapsed": false,
    "jupyter": {
     "outputs_hidden": false
    }
   },
   "outputs": [],
   "source": [
    "# number splitting\n",
    "# 'kickoffReturnFormation'\n",
    "csv = scouting\n",
    "column = \"kickoffReturnFormation\"\n",
    "symbol = \"-\"\n",
    "n = 2\n",
    "column_names = ['formation_front','formation_mid','formation_back']\n",
    "# calling function\n",
    "formation_split = number_splitting(csv,column,symbol,n)\n",
    "# calling function\n",
    "pd_to_num(csv,formation_split,column_names)"
   ]
  },
  {
   "cell_type": "code",
   "execution_count": 8,
   "metadata": {
    "collapsed": false,
    "jupyter": {
     "outputs_hidden": false
    }
   },
   "outputs": [],
   "source": [
    "# number splitting\n",
    "# 'gameDate'\n",
    "csv = games\n",
    "\n",
    "column = \"gameDate\"\n",
    "symbol = \"/\"\n",
    "n = 2\n",
    "column_names = ['game_date_day','game_date_month','game_date_year']\n",
    "# calling function\n",
    "game_date_split = number_splitting(csv,column,symbol,n)\n",
    "# calling function\n",
    "pd_to_num(csv,game_date_split,column_names)\n",
    "\n",
    "# 'gameTimeEastern'\n",
    "column = \"gameTimeEastern\"\n",
    "symbol = \":\"\n",
    "n = 2\n",
    "column_names = ['game_time_hour','game_time_minute','game_time_second']\n",
    "# calling function\n",
    "game_time_split = number_splitting(csv,column,symbol,n)\n",
    "# calling function\n",
    "pd_to_num(csv,game_time_split,column_names)"
   ]
  },
  {
   "cell_type": "code",
   "execution_count": 9,
   "metadata": {
    "collapsed": false,
    "jupyter": {
     "outputs_hidden": false
    }
   },
   "outputs": [],
   "source": [
    "# 'birthDate'\n",
    "# splitting the numbers\n",
    "players['birth_year'] = pd.DatetimeIndex(players['birthDate']).year\n",
    "\n"
   ]
  },
  {
   "cell_type": "code",
   "execution_count": 10,
   "metadata": {
    "collapsed": false,
    "jupyter": {
     "outputs_hidden": false
    }
   },
   "outputs": [],
   "source": [
    "# 'height'\n",
    "height_split = players[\"height\"].str.split(\"-\", n = 1, expand = True)\n",
    "# new column names\n",
    "height_split.columns = ['Feet', 'Inch']\n",
    "# adding new columns\n",
    "players[\"height_feet\"] = pd.to_numeric(height_split[\"Feet\"])\n",
    "players[\"height_inch\"] = pd.to_numeric(height_split[\"Inch\"])\n",
    "# still have 73 feet\n",
    "# getting rid of NaN values\n",
    "players[\"height_inch\"] = players[\"height_inch\"].fillna(0)\n",
    "# replacing heights that did not have '-' at start\n",
    "for i in players[\"height_feet\"]:\n",
    "    if i > 7:\n",
    "        j = 0.0833333 * i\n",
    "        players[\"height_feet\"].replace({i : j}, inplace=True)\n",
    "# inches to numerical value\n",
    "players[\"height_inch\"] = 0.0833333 * players[\"height_inch\"]\n",
    "# adding feet and inches to get one value\n",
    "height_numerical = players[\"height_feet\"] + players[\"height_inch\"]\n",
    "# adding new numerical value column\n",
    "players[\"height_numerical\"] = pd.to_numeric(height_numerical)"
   ]
  },
  {
   "cell_type": "code",
   "execution_count": 11,
   "metadata": {
    "collapsed": false,
    "jupyter": {
     "outputs_hidden": false
    }
   },
   "outputs": [],
   "source": [
    "# number splitting\n",
    "# 'gameClock'\n",
    "csv = plays\n",
    "\n",
    "column = \"gameClock\"\n",
    "symbol = \":\"\n",
    "n = 2\n",
    "column_names = ['game_clock_minute','game_clock_second','game_clock_milli']\n",
    "# calling function\n",
    "game_time_split = number_splitting(csv,column,symbol,n)\n",
    "# calling function\n",
    "pd_to_num(csv,game_time_split,column_names)"
   ]
  },
  {
   "cell_type": "code",
   "execution_count": 12,
   "metadata": {
    "collapsed": false,
    "jupyter": {
     "outputs_hidden": false
    }
   },
   "outputs": [
    {
     "data": {
      "text/plain": [
       "0    41.32\n",
       "1    41.68\n",
       "2    42.05\n",
       "3    42.43\n",
       "4    42.84\n",
       "Name: x, dtype: float64"
      ]
     },
     "execution_count": 12,
     "metadata": {},
     "output_type": "execute_result"
    }
   ],
   "source": [
    "# x and y positions of players\n",
    "x = tracking2018['x']\n",
    "y = tracking2018['y']\n",
    "\n",
    "# getting specific play and player, x and y\n",
    "nfl_id = 39470\n",
    "display_name = \"Justin Tucker\"\n",
    "\n",
    "x_nfl_id_name = tracking2018.loc[((tracking2018[\"nflId\"] == nfl_id) & (tracking2018[\"displayName\"] == display_name)), \"x\"]\n",
    "y_nfl_id_name = tracking2018.loc[((tracking2018[\"nflId\"] == nfl_id) & (tracking2018[\"displayName\"] == display_name)), \"y\"]\n",
    "\n",
    "x_nfl_id_name.head()"
   ]
  },
  {
   "cell_type": "markdown",
   "metadata": {},
   "source": [
    "# Xiaojun\n",
    "## count plot"
   ]
  },
  {
   "cell_type": "code",
   "execution_count": 13,
   "metadata": {
    "collapsed": false,
    "jupyter": {
     "outputs_hidden": false
    }
   },
   "outputs": [],
   "source": [
    "import plotly.graph_objects as go\n",
    "import plotly.express as px\n",
    "# from skimage import io\n",
    "\n",
    "import datetime\n",
    "# plays['year'] = plays['gameId'].apply(lambda x: int(str(x)[:4]))\n",
    "\n",
    "\n",
    "data = plays.merge(games, on='gameId', how='left').groupby(['specialTeamsPlayType','season']).nunique().reset_index()[['specialTeamsPlayType','season','playId']]\n",
    "\n",
    "fig = px.bar(\n",
    "    data_frame=data,\n",
    "    color=\"specialTeamsPlayType\",\n",
    "    y=\"playId\",\n",
    "    x=\"season\",\n",
    "    barmode=\"group\",\n",
    "    labels={'specialTeamsPlayType':'Type of Special team plays',\n",
    "                   'playId':'Number of plays'},\n",
    "             width=600,\n",
    "             height=400\n",
    ")\n",
    "\n",
    "fig.write_html('count_figure.html', auto_open=True)"
   ]
  },
  {
   "cell_type": "markdown",
   "metadata": {},
   "source": [
    "## scouting\n",
    "\n",
    "D: Deep - your normal deep kick with decent hang time\n",
    "\n",
    "F: Flat - different than a Squib in that it will have some hang time and no roll but has a lower trajectory and hang time than a Deep kick off\n",
    "\n",
    "K: Free Kick - Kick after a safety\n",
    "\n",
    "O: Obvious Onside - score and situation dictates the need to regain possession. Also the hands team is on for the returning team\n",
    "\n",
    "P: Pooch kick - high for hangtime but not a lot of distance - usually targeting an upman\n",
    "\n",
    "Q: Squib - low-line drive kick that bounces or rolls considerably, with virtually no hang time\n",
    "\n",
    "S: Surprise Onside - accounting for score and situation an onsides kick that the returning team doesn’t expect. Hands teams probably aren't on the field\n",
    "\n",
    "B: Deep Direct OOB - Kickoff that is aimed deep (regular kickoff) that goes OOB directly (doesn't bounce)\n",
    "\n",
    "Possible values for punt plays:\n",
    "\n",
    "N: Normal - standard punt style\n",
    "\n",
    "R: Rugby style punt\n",
    "\n",
    "A: Nose down or Aussie-style punts\n",
    "                                                                                          \n",
    "                                                                                          \n",
    "                                                                "
   ]
  },
  {
   "cell_type": "code",
   "execution_count": 14,
   "metadata": {},
   "outputs": [],
   "source": [
    "\n",
    "data = scouting.groupby('kickType').count().reset_index()[['kickType','playId']].sort_values(by='playId', ascending=False)\n",
    "\n",
    "kick_dict = {\n",
    "    \"D\": \"Deep\",\n",
    "    \"F\": \" Flat\",\n",
    "    \"K\": \"Free kick\",\n",
    "    \"O\": \"Obvious onside\",\n",
    "    \"P\": \"Pooch kick\",\n",
    "    \"Q\": \"Squib\",\n",
    "    \"S\": \"Surprise\",\n",
    "    \"B\": \"Deep Direct OOB\",\n",
    "    \"N\": \"Normal\",\n",
    "    \"R\": \"Rugby\",\n",
    "    \"A\": \"Aussie\"\n",
    "}              \n",
    "\n",
    "data['kickType'] = data['kickType'].apply(lambda x:kick_dict[x])\n",
    "\n",
    "\n",
    "fig = px.bar(\n",
    "    data_frame=data,\n",
    "    y=\"playId\",\n",
    "    x=\"kickType\",\n",
    "    barmode=\"group\",\n",
    "    labels={'kickType':'Type of Special team plays',\n",
    "                   'playId':'Number of plays'},\n",
    "             width=600,\n",
    "             height=400\n",
    ")\n",
    "\n",
    "fig.write_html('scouting_figure.html', auto_open=True)"
   ]
  },
  {
   "cell_type": "markdown",
   "metadata": {},
   "source": [
    "## explore"
   ]
  },
  {
   "cell_type": "code",
   "execution_count": 15,
   "metadata": {},
   "outputs": [],
   "source": [
    "cols = [ 'down', 'playResult']\n",
    "data =plays[plays.down > 0][cols]  # ignore the kick-off\n",
    "\n",
    "fig = px.box(data, x=\"down\", y=\"playResult\", width=600,height=400, labels={'playResult':'result yards'})\n",
    "fig.write_html('explore_figure.html', auto_open=True)"
   ]
  },
  {
   "cell_type": "markdown",
   "metadata": {},
   "source": [
    "# game"
   ]
  },
  {
   "cell_type": "markdown",
   "metadata": {},
   "source": [
    "x: Player position along the long axis of the field, 0 - 120 yards. See Figure 1 below. (numeric)\n",
    "\n",
    "\n",
    "y: Player position along the short axis of the field, 0 - 53.3 yards. See Figure 1 below. (numeric)"
   ]
  },
  {
   "cell_type": "code",
   "execution_count": 21,
   "metadata": {},
   "outputs": [
    {
     "name": "stderr",
     "output_type": "stream",
     "text": [
      "<ipython-input-21-673640f3bf9e>:14: SettingWithCopyWarning:\n",
      "\n",
      "\n",
      "A value is trying to be set on a copy of a slice from a DataFrame.\n",
      "Try using .loc[row_indexer,col_indexer] = value instead\n",
      "\n",
      "See the caveats in the documentation: https://pandas.pydata.org/pandas-docs/stable/user_guide/indexing.html#returning-a-view-versus-a-copy\n",
      "\n"
     ]
    }
   ],
   "source": [
    "import plotly.graph_objects as go\n",
    "\n",
    "marker_color = {\n",
    "    \"home\": \"red\",\n",
    "    \"away\": \" blue\",\n",
    "    \"football\": \"yellow\"\n",
    "}\n",
    "# too large to complie \n",
    "# df = tracking2018[tracking2018.frameId == 1] \n",
    "\n",
    "# use one game to show\n",
    "df = tracking2018[(tracking2018.frameId == 1)   & (tracking2018.gameId.isin([2018123000]))]\n",
    "\n",
    "df['color'] = df.team.apply(lambda x:marker_color[x])\n",
    "\n",
    "df = df.reset_index()\n",
    "\n",
    "\n",
    "# Create figure\n",
    "fig = go.Figure(\n",
    "        \n",
    ")\n",
    "\n",
    "# Constants\n",
    "img_width = 120\n",
    "img_height = 54\n",
    "scale_factor = 1\n",
    "\n",
    "\n",
    "# Add image\n",
    "import base64\n",
    "polar_light = \"pitch.jpg\"\n",
    "with open(polar_light, \"rb\") as image_file:\n",
    "    encoded_string = base64.b64encode(image_file.read()).decode()\n",
    "#add the prefix that plotly will want when using the string as source\n",
    "encoded_image = \"data:image/png;base64,\" + encoded_string\n",
    "\n",
    "\n",
    "fig.add_layout_image(\n",
    "    dict(\n",
    "        x=0,\n",
    "        sizex=img_width * scale_factor,\n",
    "        y=img_height * scale_factor,\n",
    "        sizey=img_height * scale_factor,\n",
    "        xref=\"x\",\n",
    "        yref=\"y\",\n",
    "        opacity=1.0,\n",
    "        layer=\"below\",\n",
    "        sizing=\"stretch\",\n",
    "        source=encoded_image)\n",
    ")\n",
    "\n",
    "# Configure axes\n",
    "fig.update_xaxes(\n",
    "    visible=False,\n",
    "    range=[0, img_width * scale_factor]\n",
    ")\n",
    "\n",
    "fig.update_yaxes(\n",
    "    visible=False,\n",
    "    range=[0, img_height * scale_factor],\n",
    "    \n",
    "    scaleanchor=\"x\"\n",
    ")\n",
    "\n",
    "\n",
    "\n",
    "base = 23\n",
    "names = []\n",
    "for i in range(0,len(df), base):\n",
    "    positions = df.iloc[i:i+base]\n",
    "    name = df.gameId.values[0] + df.playId.values[0]\n",
    "    names.append(name)\n",
    "    fig.add_trace(\n",
    "            go.Scatter(\n",
    "                visible=False,\n",
    "                x=positions.x,\n",
    "                y=positions.y,\n",
    "                marker_size=20,\n",
    "                mode='markers',\n",
    "    marker=dict(color=positions.color)\n",
    "            ),\n",
    "\n",
    "    )\n",
    "\n",
    "    \n",
    "    \n",
    "    \n",
    "fig.data[0].visible = True\n",
    "steps = []\n",
    "for i in range(len(fig.data)):\n",
    "    step = dict(\n",
    "        method=\"update\",\n",
    "        args=[{\"visible\": [False] * len(fig.data)},\n",
    "              {\"title\": \"current gameId & playId: \" + str(names[i])}],  # layout attribute\n",
    "    )\n",
    "    step[\"args\"][0][\"visible\"][i] = True  # Toggle i'th trace to \"visible\"\n",
    "    steps.append(step)\n",
    "\n",
    "sliders = [dict(\n",
    "    active=10,\n",
    "    currentvalue={\"prefix\": \"current : \"},\n",
    "    steps=steps\n",
    ")]\n",
    "\n",
    "\n",
    "fig.update_layout(\n",
    "    sliders=sliders,\n",
    "    \n",
    ")\n",
    "\n",
    "fig.write_html('game.html', auto_open=True)"
   ]
  },
  {
   "cell_type": "code",
   "execution_count": null,
   "metadata": {},
   "outputs": [],
   "source": []
  }
 ],
 "metadata": {
  "kernelspec": {
   "display_name": "Python 3",
   "language": "python",
   "name": "python3"
  },
  "language_info": {
   "codemirror_mode": {
    "name": "ipython",
    "version": 3
   },
   "file_extension": ".py",
   "mimetype": "text/x-python",
   "name": "python",
   "nbconvert_exporter": "python",
   "pygments_lexer": "ipython3",
   "version": "3.8.3"
  }
 },
 "nbformat": 4,
 "nbformat_minor": 4
}
