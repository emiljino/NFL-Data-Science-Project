{
  "nbformat": 4,
  "nbformat_minor": 0,
  "metadata": {
    "colab": {
      "provenance": []
    },
    "kernelspec": {
      "name": "python3",
      "display_name": "Python 3"
    },
    "language_info": {
      "name": "python"
    }
  },
  "cells": [
    {
      "cell_type": "code",
      "source": [
        "# imports\n",
        "from IPython.display import clear_output\n",
        "from PIL import Image\n",
        "import os\n",
        "import json\n",
        "# clear\n",
        "clear_output(wait=True)\n",
        "# installing kaggle\n",
        "!pip install -q kaggle\n",
        "# user and key info\n",
        "info = {\"username\":\"jackbellamy\",\"key\":\"3442898ba5e904ac3a48eb5b59398805\"}\n",
        "# opening file\n",
        "json_object = json.dumps(info, indent=4)\n",
        "with open(\"kaggle.json\", \"w\") as outfile:\n",
        "    outfile.write(json_object)\n",
        "!mkdir ~/.kaggle\n",
        "!cp kaggle.json ~/.kaggle/\n",
        "!chmod 600 ~/.kaggle/kaggle.json\n",
        "# copying data to content file of kaggle which can be found on the left hand side of the screen\n",
        "if not (os.path.exists(\"/content/nfl-big-data-bowl-2023\")):\n",
        "  !kaggle competitions download -c nfl-big-data-bowl-2023\n",
        "  !mkdir nfl-big-data-bowl-2023\n",
        "  !unzip nfl-big-data-bowl-2023.zip -d nfl-big-data-bowl-2023"
      ],
      "metadata": {
        "id": "qJ9sqvvjXLNc"
      },
      "execution_count": null,
      "outputs": []
    },
    {
      "cell_type": "code",
      "source": [
        "#import the libraries\n",
        "import matplotlib.pyplot as plt\n",
        "import numpy as np\n",
        "import pandas as pd\n",
        "from sklearn.preprocessing import MinMaxScaler\n",
        "from sklearn.model_selection import train_test_split\n",
        "from sklearn.tree import DecisionTreeClassifier\n",
        "from sklearn.metrics import accuracy_score, mean_absolute_error\n",
        "from sklearn.impute import SimpleImputer"
      ],
      "metadata": {
        "id": "wV2yL3Z4XHfp"
      },
      "execution_count": null,
      "outputs": []
    },
    {
      "cell_type": "code",
      "source": [
        "#read csv files\n",
        "dfPlays = pd.read_csv('/content//nfl-big-data-bowl-2023/plays.csv')\n",
        "dfPlayer = pd.read_csv('/content/nfl-big-data-bowl-2023/players.csv')\n",
        "dfWeek = pd.read_csv('/content/nfl-big-data-bowl-2023/week1.csv')"
      ],
      "metadata": {
        "id": "b3cakt3VXApz"
      },
      "execution_count": null,
      "outputs": []
    },
    {
      "cell_type": "code",
      "source": [
        "def convertTimeToNumerical2(t):\n",
        "    t = t.split(\":\")\n",
        "    if len(t) == 2:\n",
        "        return int(t[0])\n",
        "    return int(t[0])\n",
        "    \n",
        "dfPlays['gameClock_new'] = dfPlays['gameClock'].apply(convertTimeToNumerical2)"
      ],
      "metadata": {
        "id": "_tUr-W7DW8hO"
      },
      "execution_count": null,
      "outputs": []
    },
    {
      "cell_type": "code",
      "execution_count": null,
      "metadata": {
        "id": "PFS5ozYMWxha"
      },
      "outputs": [],
      "source": [
        "I_data = plays.loc[plays['passResult']==\"I\"]\n",
        "C_data = plays.loc[plays['passResult']==\"C\"]\n",
        "IN_data = plays.loc[plays['passResult']==\"IN\"]\n",
        "S_data = plays.loc[plays['passResult']==\"S\"]\n",
        "\n",
        "all_data = pd.concat([C_data, I_data, IN_data, S_data], axis=0)\n",
        "\n",
        "labels = np.array([0]*len(C_data)+[1]*len(I_data)+[2]*len(IN_data)+[3]*len(S_data))\n",
        "\n",
        "xInput = all_data[['quarter','down','yardsToGo','absoluteYardlineNumber','gameClock_new']]\n",
        "\n",
        "yInput = labels\n",
        "#yInput.dropna()\n",
        "xInput.head()"
      ]
    },
    {
      "cell_type": "code",
      "source": [
        "#split data into train and test\n",
        "#week1\n",
        "x_train,x_test,y_train,y_test = train_test_split(xInput,yInput,random_state=0,test_size=0.25)\n",
        "#scaling dataset\n",
        "scaler = MinMaxScaler()\n",
        "xTrainScaled = scaler.fit_transform(x_train)\n",
        "xTestScaled = scaler.fit_transform(x_test)\n",
        "\n",
        "print(xTestScaled)"
      ],
      "metadata": {
        "id": "-vriRhrHWzTF"
      },
      "execution_count": null,
      "outputs": []
    },
    {
      "cell_type": "code",
      "source": [
        "#select model\n",
        "model = DecisionTreeClassifier()\n",
        "#train model\n",
        "model.fit(xTrainScaled,y_train)\n",
        "predictions = model.predict(xTestScaled)\n",
        "#observing performance metrics\n",
        "accuracy = accuracy_score(y_test,predictions)*100\n",
        "print(\"Accuracy of the model is {:.2f}%\".format(accuracy))\n",
        "\n",
        "print(\"-----------------\")\n",
        "print(y_test)\n",
        "print(predictions)\n",
        "print(\"-----------------\")\n",
        "y_pred = np.argmax(y_pred1, axis=1)\n",
        "\n",
        "confusion_matrix = metrics.confusion_matrix(y_test, predictions)\n",
        "\n",
        "print(confusion_matrix)"
      ],
      "metadata": {
        "id": "8oB4TgiiWzat"
      },
      "execution_count": null,
      "outputs": []
    }
  ]
}