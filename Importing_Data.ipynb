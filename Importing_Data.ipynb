{
  "nbformat": 4,
  "nbformat_minor": 0,
  "metadata": {
    "colab": {
      "provenance": []
    },
    "kernelspec": {
      "name": "python3",
      "display_name": "Python 3"
    },
    "language_info": {
      "name": "python"
    }
  },
  "cells": [
    {
      "cell_type": "markdown",
      "source": [
        "**Importing the data**"
      ],
      "metadata": {
        "id": "X4ZMSsPNRqTG"
      }
    },
    {
      "cell_type": "code",
      "source": [
        "# imports\n",
        "from IPython.display import clear_output\n",
        "from PIL import Image\n",
        "import os\n",
        "import json\n",
        "# clear\n",
        "clear_output(wait=True)\n",
        "# installing kaggle\n",
        "!pip install -q kaggle\n",
        "# user and key info\n",
        "info = {\"username\":\"jackbellamy\",\"key\":\"3442898ba5e904ac3a48eb5b59398805\"}\n",
        "# opening file\n",
        "json_object = json.dumps(info, indent=4)\n",
        "with open(\"kaggle.json\", \"w\") as outfile:\n",
        "    outfile.write(json_object)\n",
        "!mkdir ~/.kaggle\n",
        "!cp kaggle.json ~/.kaggle/\n",
        "!chmod 600 ~/.kaggle/kaggle.json\n",
        "# copying data to content file of kaggle which can be found on the left hand side of the screen\n",
        "if not (os.path.exists(\"/content/nfl-big-data-bowl-2022\")):\n",
        "  !kaggle competitions download -c nfl-big-data-bowl-2022\n",
        "  !mkdir nfl-big-data-bowl-2022\n",
        "  !unzip nfl-big-data-bowl-2022.zip -d nfl-big-data-bowl-2022"
      ],
      "metadata": {
        "id": "LtAFzJERRp1M"
      },
      "execution_count": null,
      "outputs": []
    },
    {
      "cell_type": "markdown",
      "source": [
        "**Calling data files to variables**"
      ],
      "metadata": {
        "id": "FL3NjPyPWjuT"
      }
    },
    {
      "cell_type": "code",
      "source": [
        "import pandas as pd\n",
        "# reading the data to variables\n",
        "scouting = pd.read_csv(\"/content/nfl-big-data-bowl-2022/PFFScoutingData.csv\")\n",
        "games = pd.read_csv(\"/content/nfl-big-data-bowl-2022/games.csv\")\n",
        "players = pd.read_csv(\"/content/nfl-big-data-bowl-2022/players.csv\")\n",
        "plays = pd.read_csv(\"/content/nfl-big-data-bowl-2022/plays.csv\")\n",
        "tracking2018 = pd.read_csv(\"/content/nfl-big-data-bowl-2022/tracking2018.csv\")\n",
        "tracking2019 = pd.read_csv(\"/content/nfl-big-data-bowl-2022/tracking2019.csv\")\n",
        "tracking2020 = pd.read_csv(\"/content/nfl-big-data-bowl-2022/tracking2020.csv\")"
      ],
      "metadata": {
        "id": "pL8weQDSWZCC"
      },
      "execution_count": 2,
      "outputs": []
    },
    {
      "cell_type": "markdown",
      "source": [
        "**Data sizes**"
      ],
      "metadata": {
        "id": "QsN6G5gZQtzW"
      }
    },
    {
      "cell_type": "code",
      "source": [
        "data = [scouting,games,players,plays,tracking2018,tracking2019,tracking2020]\n",
        "# loop\n",
        "for name in data:\n",
        "  print(name.shape)"
      ],
      "metadata": {
        "colab": {
          "base_uri": "https://localhost:8080/"
        },
        "id": "bZhVN8RvQtII",
        "outputId": "808d955d-7a7f-4bb9-e5c8-bccb64b06424"
      },
      "execution_count": 12,
      "outputs": [
        {
          "output_type": "stream",
          "name": "stdout",
          "text": [
            "(19979, 20)\n",
            "(764, 7)\n",
            "(2732, 7)\n",
            "(19979, 25)\n",
            "(12777351, 18)\n",
            "(12170933, 18)\n",
            "(11821701, 18)\n"
          ]
        }
      ]
    },
    {
      "cell_type": "markdown",
      "source": [
        "**Viewing data**"
      ],
      "metadata": {
        "id": "5c_7cNUHXTKO"
      }
    },
    {
      "cell_type": "code",
      "source": [
        "# shows the first n rows of the data, can change this by changing the n value\n",
        "scouting.head(5)"
      ],
      "metadata": {
        "colab": {
          "base_uri": "https://localhost:8080/",
          "height": 478
        },
        "id": "n_8D_eSYXSfG",
        "outputId": "bbc1b85b-230a-4b7a-8163-86fff5a15817"
      },
      "execution_count": 13,
      "outputs": [
        {
          "output_type": "execute_result",
          "data": {
            "text/plain": [
              "       gameId  playId snapDetail  snapTime  operationTime  hangTime kickType  \\\n",
              "0  2018090600      37        NaN       NaN            NaN      3.85        D   \n",
              "1  2018090600     366         OK      0.84           2.12      4.46        N   \n",
              "2  2018090600     658        NaN       NaN            NaN       NaN      NaN   \n",
              "3  2018090600     677        NaN       NaN            NaN      4.06        D   \n",
              "4  2018090600     872         OK      0.84           2.00      4.35        N   \n",
              "\n",
              "  kickDirectionIntended kickDirectionActual returnDirectionIntended  \\\n",
              "0                     R                   R                     NaN   \n",
              "1                     C                   C                       C   \n",
              "2                   NaN                 NaN                     NaN   \n",
              "3                     R                   R                       C   \n",
              "4                     C                   L                     NaN   \n",
              "\n",
              "  returnDirectionActual missedTackler assistTackler tackler  \\\n",
              "0                   NaN           NaN           NaN     NaN   \n",
              "1                     R        PHI 57           NaN  PHI 54   \n",
              "2                   NaN           NaN           NaN     NaN   \n",
              "3                     C        ATL 83        ATL 22  ATL 27   \n",
              "4                   NaN           NaN           NaN     NaN   \n",
              "\n",
              "  kickoffReturnFormation         gunners puntRushers specialTeamsSafeties  \\\n",
              "0                  8-0-2             NaN         NaN       PHI 23; PHI 27   \n",
              "1                    NaN  PHI 18; PHI 29         NaN                  NaN   \n",
              "2                    NaN             NaN         NaN               PHI 58   \n",
              "3                  8-0-2             NaN         NaN       ATL 17; ATL 22   \n",
              "4                    NaN  PHI 18; PHI 29      ATL 85               ATL 37   \n",
              "\n",
              "                            vises kickContactType  \n",
              "0                             NaN             NaN  \n",
              "1  ATL 83; ATL 27; ATL 34; ATL 21              CC  \n",
              "2                             NaN             NaN  \n",
              "3                             NaN             NaN  \n",
              "4          ATL 83; ATL 34; ATL 21              BF  "
            ],
            "text/html": [
              "\n",
              "  <div id=\"df-2bfd2e49-bb98-4bd0-b840-78788ccb67d1\">\n",
              "    <div class=\"colab-df-container\">\n",
              "      <div>\n",
              "<style scoped>\n",
              "    .dataframe tbody tr th:only-of-type {\n",
              "        vertical-align: middle;\n",
              "    }\n",
              "\n",
              "    .dataframe tbody tr th {\n",
              "        vertical-align: top;\n",
              "    }\n",
              "\n",
              "    .dataframe thead th {\n",
              "        text-align: right;\n",
              "    }\n",
              "</style>\n",
              "<table border=\"1\" class=\"dataframe\">\n",
              "  <thead>\n",
              "    <tr style=\"text-align: right;\">\n",
              "      <th></th>\n",
              "      <th>gameId</th>\n",
              "      <th>playId</th>\n",
              "      <th>snapDetail</th>\n",
              "      <th>snapTime</th>\n",
              "      <th>operationTime</th>\n",
              "      <th>hangTime</th>\n",
              "      <th>kickType</th>\n",
              "      <th>kickDirectionIntended</th>\n",
              "      <th>kickDirectionActual</th>\n",
              "      <th>returnDirectionIntended</th>\n",
              "      <th>returnDirectionActual</th>\n",
              "      <th>missedTackler</th>\n",
              "      <th>assistTackler</th>\n",
              "      <th>tackler</th>\n",
              "      <th>kickoffReturnFormation</th>\n",
              "      <th>gunners</th>\n",
              "      <th>puntRushers</th>\n",
              "      <th>specialTeamsSafeties</th>\n",
              "      <th>vises</th>\n",
              "      <th>kickContactType</th>\n",
              "    </tr>\n",
              "  </thead>\n",
              "  <tbody>\n",
              "    <tr>\n",
              "      <th>0</th>\n",
              "      <td>2018090600</td>\n",
              "      <td>37</td>\n",
              "      <td>NaN</td>\n",
              "      <td>NaN</td>\n",
              "      <td>NaN</td>\n",
              "      <td>3.85</td>\n",
              "      <td>D</td>\n",
              "      <td>R</td>\n",
              "      <td>R</td>\n",
              "      <td>NaN</td>\n",
              "      <td>NaN</td>\n",
              "      <td>NaN</td>\n",
              "      <td>NaN</td>\n",
              "      <td>NaN</td>\n",
              "      <td>8-0-2</td>\n",
              "      <td>NaN</td>\n",
              "      <td>NaN</td>\n",
              "      <td>PHI 23; PHI 27</td>\n",
              "      <td>NaN</td>\n",
              "      <td>NaN</td>\n",
              "    </tr>\n",
              "    <tr>\n",
              "      <th>1</th>\n",
              "      <td>2018090600</td>\n",
              "      <td>366</td>\n",
              "      <td>OK</td>\n",
              "      <td>0.84</td>\n",
              "      <td>2.12</td>\n",
              "      <td>4.46</td>\n",
              "      <td>N</td>\n",
              "      <td>C</td>\n",
              "      <td>C</td>\n",
              "      <td>C</td>\n",
              "      <td>R</td>\n",
              "      <td>PHI 57</td>\n",
              "      <td>NaN</td>\n",
              "      <td>PHI 54</td>\n",
              "      <td>NaN</td>\n",
              "      <td>PHI 18; PHI 29</td>\n",
              "      <td>NaN</td>\n",
              "      <td>NaN</td>\n",
              "      <td>ATL 83; ATL 27; ATL 34; ATL 21</td>\n",
              "      <td>CC</td>\n",
              "    </tr>\n",
              "    <tr>\n",
              "      <th>2</th>\n",
              "      <td>2018090600</td>\n",
              "      <td>658</td>\n",
              "      <td>NaN</td>\n",
              "      <td>NaN</td>\n",
              "      <td>NaN</td>\n",
              "      <td>NaN</td>\n",
              "      <td>NaN</td>\n",
              "      <td>NaN</td>\n",
              "      <td>NaN</td>\n",
              "      <td>NaN</td>\n",
              "      <td>NaN</td>\n",
              "      <td>NaN</td>\n",
              "      <td>NaN</td>\n",
              "      <td>NaN</td>\n",
              "      <td>NaN</td>\n",
              "      <td>NaN</td>\n",
              "      <td>NaN</td>\n",
              "      <td>PHI 58</td>\n",
              "      <td>NaN</td>\n",
              "      <td>NaN</td>\n",
              "    </tr>\n",
              "    <tr>\n",
              "      <th>3</th>\n",
              "      <td>2018090600</td>\n",
              "      <td>677</td>\n",
              "      <td>NaN</td>\n",
              "      <td>NaN</td>\n",
              "      <td>NaN</td>\n",
              "      <td>4.06</td>\n",
              "      <td>D</td>\n",
              "      <td>R</td>\n",
              "      <td>R</td>\n",
              "      <td>C</td>\n",
              "      <td>C</td>\n",
              "      <td>ATL 83</td>\n",
              "      <td>ATL 22</td>\n",
              "      <td>ATL 27</td>\n",
              "      <td>8-0-2</td>\n",
              "      <td>NaN</td>\n",
              "      <td>NaN</td>\n",
              "      <td>ATL 17; ATL 22</td>\n",
              "      <td>NaN</td>\n",
              "      <td>NaN</td>\n",
              "    </tr>\n",
              "    <tr>\n",
              "      <th>4</th>\n",
              "      <td>2018090600</td>\n",
              "      <td>872</td>\n",
              "      <td>OK</td>\n",
              "      <td>0.84</td>\n",
              "      <td>2.00</td>\n",
              "      <td>4.35</td>\n",
              "      <td>N</td>\n",
              "      <td>C</td>\n",
              "      <td>L</td>\n",
              "      <td>NaN</td>\n",
              "      <td>NaN</td>\n",
              "      <td>NaN</td>\n",
              "      <td>NaN</td>\n",
              "      <td>NaN</td>\n",
              "      <td>NaN</td>\n",
              "      <td>PHI 18; PHI 29</td>\n",
              "      <td>ATL 85</td>\n",
              "      <td>ATL 37</td>\n",
              "      <td>ATL 83; ATL 34; ATL 21</td>\n",
              "      <td>BF</td>\n",
              "    </tr>\n",
              "  </tbody>\n",
              "</table>\n",
              "</div>\n",
              "      <button class=\"colab-df-convert\" onclick=\"convertToInteractive('df-2bfd2e49-bb98-4bd0-b840-78788ccb67d1')\"\n",
              "              title=\"Convert this dataframe to an interactive table.\"\n",
              "              style=\"display:none;\">\n",
              "        \n",
              "  <svg xmlns=\"http://www.w3.org/2000/svg\" height=\"24px\"viewBox=\"0 0 24 24\"\n",
              "       width=\"24px\">\n",
              "    <path d=\"M0 0h24v24H0V0z\" fill=\"none\"/>\n",
              "    <path d=\"M18.56 5.44l.94 2.06.94-2.06 2.06-.94-2.06-.94-.94-2.06-.94 2.06-2.06.94zm-11 1L8.5 8.5l.94-2.06 2.06-.94-2.06-.94L8.5 2.5l-.94 2.06-2.06.94zm10 10l.94 2.06.94-2.06 2.06-.94-2.06-.94-.94-2.06-.94 2.06-2.06.94z\"/><path d=\"M17.41 7.96l-1.37-1.37c-.4-.4-.92-.59-1.43-.59-.52 0-1.04.2-1.43.59L10.3 9.45l-7.72 7.72c-.78.78-.78 2.05 0 2.83L4 21.41c.39.39.9.59 1.41.59.51 0 1.02-.2 1.41-.59l7.78-7.78 2.81-2.81c.8-.78.8-2.07 0-2.86zM5.41 20L4 18.59l7.72-7.72 1.47 1.35L5.41 20z\"/>\n",
              "  </svg>\n",
              "      </button>\n",
              "      \n",
              "  <style>\n",
              "    .colab-df-container {\n",
              "      display:flex;\n",
              "      flex-wrap:wrap;\n",
              "      gap: 12px;\n",
              "    }\n",
              "\n",
              "    .colab-df-convert {\n",
              "      background-color: #E8F0FE;\n",
              "      border: none;\n",
              "      border-radius: 50%;\n",
              "      cursor: pointer;\n",
              "      display: none;\n",
              "      fill: #1967D2;\n",
              "      height: 32px;\n",
              "      padding: 0 0 0 0;\n",
              "      width: 32px;\n",
              "    }\n",
              "\n",
              "    .colab-df-convert:hover {\n",
              "      background-color: #E2EBFA;\n",
              "      box-shadow: 0px 1px 2px rgba(60, 64, 67, 0.3), 0px 1px 3px 1px rgba(60, 64, 67, 0.15);\n",
              "      fill: #174EA6;\n",
              "    }\n",
              "\n",
              "    [theme=dark] .colab-df-convert {\n",
              "      background-color: #3B4455;\n",
              "      fill: #D2E3FC;\n",
              "    }\n",
              "\n",
              "    [theme=dark] .colab-df-convert:hover {\n",
              "      background-color: #434B5C;\n",
              "      box-shadow: 0px 1px 3px 1px rgba(0, 0, 0, 0.15);\n",
              "      filter: drop-shadow(0px 1px 2px rgba(0, 0, 0, 0.3));\n",
              "      fill: #FFFFFF;\n",
              "    }\n",
              "  </style>\n",
              "\n",
              "      <script>\n",
              "        const buttonEl =\n",
              "          document.querySelector('#df-2bfd2e49-bb98-4bd0-b840-78788ccb67d1 button.colab-df-convert');\n",
              "        buttonEl.style.display =\n",
              "          google.colab.kernel.accessAllowed ? 'block' : 'none';\n",
              "\n",
              "        async function convertToInteractive(key) {\n",
              "          const element = document.querySelector('#df-2bfd2e49-bb98-4bd0-b840-78788ccb67d1');\n",
              "          const dataTable =\n",
              "            await google.colab.kernel.invokeFunction('convertToInteractive',\n",
              "                                                     [key], {});\n",
              "          if (!dataTable) return;\n",
              "\n",
              "          const docLinkHtml = 'Like what you see? Visit the ' +\n",
              "            '<a target=\"_blank\" href=https://colab.research.google.com/notebooks/data_table.ipynb>data table notebook</a>'\n",
              "            + ' to learn more about interactive tables.';\n",
              "          element.innerHTML = '';\n",
              "          dataTable['output_type'] = 'display_data';\n",
              "          await google.colab.output.renderOutput(dataTable, element);\n",
              "          const docLink = document.createElement('div');\n",
              "          docLink.innerHTML = docLinkHtml;\n",
              "          element.appendChild(docLink);\n",
              "        }\n",
              "      </script>\n",
              "    </div>\n",
              "  </div>\n",
              "  "
            ]
          },
          "metadata": {},
          "execution_count": 13
        }
      ]
    },
    {
      "cell_type": "markdown",
      "source": [
        "\n",
        "**Cleaning data**"
      ],
      "metadata": {
        "id": "aN5FdQBrYelW"
      }
    },
    {
      "cell_type": "code",
      "source": [
        "# need to decide what needs cleaning and adapting etc"
      ],
      "metadata": {
        "id": "6N6Q00KPYlLA"
      },
      "execution_count": null,
      "outputs": []
    }
  ]
}