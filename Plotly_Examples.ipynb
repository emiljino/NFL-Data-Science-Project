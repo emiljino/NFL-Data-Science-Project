{
  "nbformat": 4,
  "nbformat_minor": 0,
  "metadata": {
    "colab": {
      "provenance": []
    },
    "kernelspec": {
      "name": "python3",
      "display_name": "Python 3"
    },
    "language_info": {
      "name": "python"
    }
  },
  "cells": [
    {
      "cell_type": "markdown",
      "source": [
        "**Plotly Examples**\n",
        "\n",
        "**Do not have a line example but it's 'px.line(csv, x=\"x\", y=\"y\")'**\n",
        "\n",
        "**Imports**"
      ],
      "metadata": {
        "id": "2HOAfIDMJtyC"
      }
    },
    {
      "cell_type": "code",
      "source": [
        "import plotly.graph_objects as go\n",
        "import plotly.express as px"
      ],
      "metadata": {
        "id": "x53v8bxJJy1n"
      },
      "execution_count": null,
      "outputs": []
    },
    {
      "cell_type": "markdown",
      "source": [
        "**Bar Chart**"
      ],
      "metadata": {
        "id": "ISPvlDoqKcH7"
      }
    },
    {
      "cell_type": "code",
      "source": [
        "data = scouting['kick_type_name'].value_counts()\n",
        "\n",
        "fig = px.bar(data, \n",
        "            labels={'x':'Kick type',\n",
        "                   'y':'Number of kicks'},\n",
        "            width=600, \n",
        "            height=400\n",
        "            )\n",
        "\n",
        "fig.update_layout(showlegend=False)\n",
        "\n",
        "fig.show()"
      ],
      "metadata": {
        "id": "ZsHwO4_LKcO0"
      },
      "execution_count": null,
      "outputs": []
    },
    {
      "cell_type": "markdown",
      "source": [
        "**Scatter, this one uses the dataframe 'plays' to get the data**"
      ],
      "metadata": {
        "id": "WiMkYI6FJ6WM"
      }
    },
    {
      "cell_type": "code",
      "source": [
        "fig = px.scatter(plays, \n",
        "                 x=\"kickLength\", \n",
        "                 y=\"kickReturnYardage\", \n",
        "                 color=\"specialTeamsPlayType\",\n",
        "                 width=600, \n",
        "                 height=400\n",
        "                 )\n",
        "fig.show()"
      ],
      "metadata": {
        "id": "eH3DGv8DJ6et"
      },
      "execution_count": null,
      "outputs": []
    },
    {
      "cell_type": "markdown",
      "source": [
        "**Scatter, else you can set x and y**"
      ],
      "metadata": {
        "id": "2XT8N9D_J6vU"
      }
    },
    {
      "cell_type": "code",
      "source": [
        "kick_type = \"Kickoff\"\n",
        "kick_length_data = plays.loc[(plays[\"specialTeamsPlayType\"] == kick_type), \"kickLength\"]\n",
        "kick_return_data = plays.loc[(plays[\"specialTeamsPlayType\"] == kick_type), \"kickReturnYardage\"]\n",
        "\n",
        "fig = px.scatter(x = kick_length_data, \n",
        "                 y= kick_return_data,\n",
        "                 trendline=\"ols\",\n",
        "                 labels=dict(kickLength=\"Kick length (yards)\", kickReturnYardage=\"Kick return (yards)\"),\n",
        "                 width=600, \n",
        "                 height=400\n",
        "                )\n",
        "fig.show()"
      ],
      "metadata": {
        "id": "BZbaMwyCJ633"
      },
      "execution_count": null,
      "outputs": []
    },
    {
      "cell_type": "markdown",
      "source": [
        "**Adding line to scatter**"
      ],
      "metadata": {
        "id": "w9nxooomLrP6"
      }
    },
    {
      "cell_type": "code",
      "source": [
        "fig = go.Figure()\n",
        "\n",
        "# plotting\n",
        "fig = px.scatter(x = Y_test, \n",
        "                 y= Y_pred,\n",
        "                 trendline = \"ols\",\n",
        "                 trendline_color_override=\"red\",\n",
        "                 #name = \"trendline\",\n",
        "                 labels=dict(x=\"Actual play result\", y=\"Predicted play result\"),\n",
        "                 width=500, \n",
        "                 height=500\n",
        "                )\n",
        "\n",
        "x = np.linspace(-40,80)\n",
        "# adding line\n",
        "fig.add_trace(go.Scatter(\n",
        "    x=x,\n",
        "    y=x,\n",
        "    name=\"y = x\",\n",
        "))\n",
        "# chanigng axis lims\n",
        "fig.update_layout(xaxis_range=[-40,80],\n",
        "                  yaxis_range=[-40,80]\n",
        ")\n",
        "\n",
        "fig.show()"
      ],
      "metadata": {
        "id": "rZWwkT2eLum-"
      },
      "execution_count": null,
      "outputs": []
    },
    {
      "cell_type": "markdown",
      "source": [
        "**Simulating Play**"
      ],
      "metadata": {
        "id": "kmd0Re4FJ3Gn"
      }
    },
    {
      "cell_type": "code",
      "execution_count": null,
      "metadata": {
        "id": "eMPCzsktJdq6"
      },
      "outputs": [],
      "source": [
        "# figure\n",
        "fig = go.Figure()\n",
        "\n",
        "# play\n",
        "play_2020091000_39 = tracking2020.loc[(tracking2020['playId'] == 3509) & (tracking2020['gameId'] == 2020091310)]\n",
        "\n",
        "# plotting\n",
        "fig = px.scatter(play_2020091000_39, \n",
        "           x=\"x\", \n",
        "           y=\"y\", \n",
        "           animation_frame=\"time\", \n",
        "           animation_group=\"nflId\",\n",
        "           color=\"team\",\n",
        "           hover_name=\"displayName\", \n",
        "           width=600, \n",
        "           height=400           \n",
        "          )\n",
        "\n",
        "# updating axes\n",
        "fig.update_layout(xaxis_range=[0,120],\n",
        "                  yaxis_range=[0,53.3]\n",
        "                  )\n",
        "# showing\n",
        "fig.show("
      ]
    },
    {
      "cell_type": "markdown",
      "source": [
        "**Simulating on Field**"
      ],
      "metadata": {
        "id": "D23b_vPJLROR"
      }
    },
    {
      "cell_type": "code",
      "source": [
        "# figure\n",
        "fig = go.Figure()\n",
        "\n",
        "csv = tracking2018\n",
        "game = 2018090900\n",
        "play = 1613\n",
        "# play\n",
        "play_data = csv.loc[(csv['playId'] == play) & (csv['gameId'] == game)]\n",
        "\n",
        "# plotting\n",
        "fig = px.scatter(play_data, \n",
        "           x=\"x\", \n",
        "           y=\"y\", \n",
        "           animation_frame=\"time\", \n",
        "           animation_group=\"nflId\",\n",
        "           color=\"team\",\n",
        "           hover_name=\"displayName\", \n",
        "           width=600, \n",
        "           height=400           \n",
        "          )\n",
        "\n",
        "# updating axes\n",
        "fig.update_layout(xaxis_range=[0,120],\n",
        "                  yaxis_range=[0,53.3],\n",
        "                  )\n",
        "# no grid\n",
        "fig.update_xaxes(showgrid=False)\n",
        "fig.update_yaxes(showgrid=False)\n",
        "\n",
        "# green rect\n",
        "fig.add_shape(type=\"rect\",\n",
        "    x0=10, y0=0, x1=110, y1=53.3,\n",
        "    line=dict(color=\"White\",\n",
        "              width=1),\n",
        "    layer=\"below\",\n",
        "    fillcolor=\"LightGreen\",\n",
        "    )\n",
        "fig.add_shape(type=\"rect\",\n",
        "    x0=0, y0=0, x1=10, y1=53.3,\n",
        "    line=dict(color=\"White\",\n",
        "              width=1),\n",
        "    layer=\"below\",\n",
        "    fillcolor=\"Blue\",\n",
        "    opacity=0.5,\n",
        "    )\n",
        "fig.add_shape(type=\"rect\",\n",
        "    x0=110, y0=0, x1=120, y1=53.3,\n",
        "    line=dict(color=\"White\",\n",
        "              width=1),\n",
        "    layer=\"below\",\n",
        "    fillcolor=\"Red\",\n",
        "    opacity=0.5,\n",
        "    )\n",
        "# vertical lines\n",
        "fig.add_shape(type=\"line\",\n",
        "    x0=10, y0=0, x1=10, y1=53.3,\n",
        "    layer=\"below\",\n",
        "    line=dict(color=\"White\",width=2),\n",
        "    )\n",
        "fig.add_shape(type=\"line\",\n",
        "    x0=20, y0=0, x1=20, y1=53.3,\n",
        "    layer=\"below\",\n",
        "    line=dict(color=\"White\",width=2),\n",
        "    )\n",
        "fig.add_shape(type=\"line\",\n",
        "    x0=30, y0=0, x1=30, y1=53.3,\n",
        "    layer=\"below\",\n",
        "    line=dict(color=\"White\",width=2),\n",
        "    )\n",
        "fig.add_shape(type=\"line\",\n",
        "    x0=40, y0=0, x1=40, y1=53.3,\n",
        "    layer=\"below\",\n",
        "    line=dict(color=\"White\",width=2),\n",
        "    )\n",
        "fig.add_shape(type=\"line\",\n",
        "    x0=50, y0=0, x1=50, y1=53.3,\n",
        "    layer=\"below\",\n",
        "    line=dict(color=\"White\",width=2),\n",
        "    )\n",
        "fig.add_shape(type=\"line\",\n",
        "    x0=60, y0=0, x1=60, y1=53.3,\n",
        "    layer=\"below\",\n",
        "    line=dict(color=\"White\",width=2),\n",
        "    )\n",
        "fig.add_shape(type=\"line\",\n",
        "    x0=70, y0=0, x1=70, y1=53.3,\n",
        "    layer=\"below\",\n",
        "    line=dict(color=\"White\",width=2),\n",
        "    )\n",
        "fig.add_shape(type=\"line\",\n",
        "    x0=80, y0=0, x1=80, y1=53.3,\n",
        "    layer=\"below\",\n",
        "    line=dict(color=\"White\",width=2),\n",
        "    )\n",
        "fig.add_shape(type=\"line\",\n",
        "    x0=110, y0=0, x1=110, y1=53.3,\n",
        "    layer=\"below\",\n",
        "    line=dict(color=\"White\",width=2),\n",
        "    )\n",
        "fig.add_shape(type=\"line\",\n",
        "    x0=90, y0=0, x1=90, y1=53.3,\n",
        "    layer=\"below\",\n",
        "    line=dict(color=\"White\",width=2),\n",
        "    )\n",
        "fig.add_shape(type=\"line\",\n",
        "    x0=100, y0=0, x1=100, y1=53.3,\n",
        "    layer=\"below\",\n",
        "    line=dict(color=\"White\",width=2),\n",
        "    )\n",
        "# horizontal lines\n",
        "fig.add_shape(type=\"line\",\n",
        "    x0=10, y0=15, x1=110, y1=15,\n",
        "    layer=\"below\",\n",
        "    line=dict(color=\"White\",width=6,\n",
        "              dash=\"dot\"),\n",
        "    )\n",
        "fig.add_shape(type=\"line\",\n",
        "    x0=10, y0=53.3-15, x1=110, y1=53.3-15,\n",
        "    layer=\"below\",\n",
        "    line=dict(color=\"White\",width=6,\n",
        "              dash=\"dot\"),\n",
        "    )\n",
        "# goals\n",
        "fig.add_shape(type=\"line\",\n",
        "    x0=1, y0=23.55, x1=1, y1=29.75,\n",
        "    layer=\"below\",\n",
        "    line=dict(color=\"Yellow\",width=6),\n",
        "    )\n",
        "fig.add_shape(type=\"line\",\n",
        "    x0=119, y0=23.55, x1=119, y1=29.75,\n",
        "    layer=\"below\",\n",
        "    line=dict(color=\"Yellow\",width=6),\n",
        "    )\n",
        "# showing\n",
        "fig.show()"
      ],
      "metadata": {
        "id": "pwEU-uZ4LR8S"
      },
      "execution_count": null,
      "outputs": []
    }
  ]
}