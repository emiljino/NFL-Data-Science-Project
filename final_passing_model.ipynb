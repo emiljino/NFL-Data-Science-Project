{
  "nbformat": 4,
  "nbformat_minor": 0,
  "metadata": {
    "colab": {
      "provenance": []
    },
    "kernelspec": {
      "name": "python3",
      "display_name": "Python 3"
    },
    "language_info": {
      "name": "python"
    }
  },
  "cells": [
    {
      "cell_type": "code",
      "source": [
        "# imports\n",
        "from IPython.display import clear_output\n",
        "from PIL import Image\n",
        "import os\n",
        "import json\n",
        "# clear\n",
        "clear_output(wait=True)\n",
        "# installing kaggle\n",
        "!pip install -q kaggle\n",
        "# user and key info\n",
        "info = {\"username\":\"jackbellamy\",\"key\":\"3442898ba5e904ac3a48eb5b59398805\"}\n",
        "# opening file\n",
        "json_object = json.dumps(info, indent=4)\n",
        "with open(\"kaggle.json\", \"w\") as outfile:\n",
        "    outfile.write(json_object)\n",
        "!mkdir ~/.kaggle\n",
        "!cp kaggle.json ~/.kaggle/\n",
        "!chmod 600 ~/.kaggle/kaggle.json\n",
        "# copying data to content file of kaggle which can be found on the left hand side of the screen\n",
        "if not (os.path.exists(\"/content/nfl-big-data-bowl-2023\")):\n",
        "  !kaggle competitions download -c nfl-big-data-bowl-2023\n",
        "  !mkdir nfl-big-data-bowl-2023\n",
        "  !unzip nfl-big-data-bowl-2023.zip -d nfl-big-data-bowl-2023"
      ],
      "metadata": {
        "id": "qJ9sqvvjXLNc",
        "colab": {
          "base_uri": "https://localhost:8080/"
        },
        "outputId": "b67aa418-cdbe-4edd-bd01-fdb18dd84b1c"
      },
      "execution_count": 1,
      "outputs": [
        {
          "output_type": "stream",
          "name": "stdout",
          "text": [
            "Downloading nfl-big-data-bowl-2023.zip to /content\n",
            " 95% 163M/172M [00:02<00:00, 79.0MB/s]\n",
            "100% 172M/172M [00:02<00:00, 68.6MB/s]\n",
            "Archive:  nfl-big-data-bowl-2023.zip\n",
            "  inflating: nfl-big-data-bowl-2023/games.csv  \n",
            "  inflating: nfl-big-data-bowl-2023/pffScoutingData.csv  \n",
            "  inflating: nfl-big-data-bowl-2023/players.csv  \n",
            "  inflating: nfl-big-data-bowl-2023/plays.csv  \n",
            "  inflating: nfl-big-data-bowl-2023/week1.csv  \n",
            "  inflating: nfl-big-data-bowl-2023/week2.csv  \n",
            "  inflating: nfl-big-data-bowl-2023/week3.csv  \n",
            "  inflating: nfl-big-data-bowl-2023/week4.csv  \n",
            "  inflating: nfl-big-data-bowl-2023/week5.csv  \n",
            "  inflating: nfl-big-data-bowl-2023/week6.csv  \n",
            "  inflating: nfl-big-data-bowl-2023/week7.csv  \n",
            "  inflating: nfl-big-data-bowl-2023/week8.csv  \n"
          ]
        }
      ]
    },
    {
      "cell_type": "code",
      "source": [
        "#import the libraries\n",
        "import matplotlib.pyplot as plt\n",
        "import numpy as np\n",
        "import pandas as pd\n",
        "from sklearn.preprocessing import MinMaxScaler\n",
        "from sklearn.model_selection import train_test_split\n",
        "from sklearn.tree import DecisionTreeClassifier\n",
        "from sklearn.metrics import accuracy_score, mean_absolute_error\n",
        "from sklearn.impute import SimpleImputer"
      ],
      "metadata": {
        "id": "wV2yL3Z4XHfp"
      },
      "execution_count": 2,
      "outputs": []
    },
    {
      "cell_type": "code",
      "source": [
        "#read csv files\n",
        "dfPlays = pd.read_csv('/content//nfl-big-data-bowl-2023/plays.csv')\n",
        "dfPlayer = pd.read_csv('/content/nfl-big-data-bowl-2023/players.csv')\n",
        "dfWeek = pd.read_csv('/content/nfl-big-data-bowl-2023/week1.csv')"
      ],
      "metadata": {
        "id": "b3cakt3VXApz"
      },
      "execution_count": 3,
      "outputs": []
    },
    {
      "cell_type": "code",
      "source": [
        "dfPlays = pd.merge(dfWeek, dfPlays, on=['playId'])\n",
        "\n",
        "def convertTimeToNumerical2(t):\n",
        "    t = t.split(\":\")\n",
        "    if len(t) == 2:\n",
        "        return int(t[0])\n",
        "    return int(t[0])\n",
        "\n",
        "dfPlays['gameClock_new'] = dfPlays['gameClock'].apply(convertTimeToNumerical2)"
      ],
      "metadata": {
        "id": "_tUr-W7DW8hO"
      },
      "execution_count": 4,
      "outputs": []
    },
    {
      "cell_type": "code",
      "execution_count": 5,
      "metadata": {
        "id": "PFS5ozYMWxha",
        "colab": {
          "base_uri": "https://localhost:8080/",
          "height": 206
        },
        "outputId": "1bfd632e-2fdf-44da-8b94-4b7a13ad5f5d"
      },
      "outputs": [
        {
          "output_type": "execute_result",
          "data": {
            "text/plain": [
              "    quarter  down  yardsToGo  absoluteYardlineNumber  gameClock_new\n",
              "2         1     1         10                    72.0             13\n",
              "4         1     3          4                    41.0             13\n",
              "5         1     3          2                    77.0             13\n",
              "8         1     1         10                    72.0             13\n",
              "10        1     3          4                    41.0             13"
            ],
            "text/html": [
              "\n",
              "  <div id=\"df-b1b1d542-e69c-4a10-b6e0-afbc6286c306\">\n",
              "    <div class=\"colab-df-container\">\n",
              "      <div>\n",
              "<style scoped>\n",
              "    .dataframe tbody tr th:only-of-type {\n",
              "        vertical-align: middle;\n",
              "    }\n",
              "\n",
              "    .dataframe tbody tr th {\n",
              "        vertical-align: top;\n",
              "    }\n",
              "\n",
              "    .dataframe thead th {\n",
              "        text-align: right;\n",
              "    }\n",
              "</style>\n",
              "<table border=\"1\" class=\"dataframe\">\n",
              "  <thead>\n",
              "    <tr style=\"text-align: right;\">\n",
              "      <th></th>\n",
              "      <th>quarter</th>\n",
              "      <th>down</th>\n",
              "      <th>yardsToGo</th>\n",
              "      <th>absoluteYardlineNumber</th>\n",
              "      <th>gameClock_new</th>\n",
              "    </tr>\n",
              "  </thead>\n",
              "  <tbody>\n",
              "    <tr>\n",
              "      <th>2</th>\n",
              "      <td>1</td>\n",
              "      <td>1</td>\n",
              "      <td>10</td>\n",
              "      <td>72.0</td>\n",
              "      <td>13</td>\n",
              "    </tr>\n",
              "    <tr>\n",
              "      <th>4</th>\n",
              "      <td>1</td>\n",
              "      <td>3</td>\n",
              "      <td>4</td>\n",
              "      <td>41.0</td>\n",
              "      <td>13</td>\n",
              "    </tr>\n",
              "    <tr>\n",
              "      <th>5</th>\n",
              "      <td>1</td>\n",
              "      <td>3</td>\n",
              "      <td>2</td>\n",
              "      <td>77.0</td>\n",
              "      <td>13</td>\n",
              "    </tr>\n",
              "    <tr>\n",
              "      <th>8</th>\n",
              "      <td>1</td>\n",
              "      <td>1</td>\n",
              "      <td>10</td>\n",
              "      <td>72.0</td>\n",
              "      <td>13</td>\n",
              "    </tr>\n",
              "    <tr>\n",
              "      <th>10</th>\n",
              "      <td>1</td>\n",
              "      <td>3</td>\n",
              "      <td>4</td>\n",
              "      <td>41.0</td>\n",
              "      <td>13</td>\n",
              "    </tr>\n",
              "  </tbody>\n",
              "</table>\n",
              "</div>\n",
              "      <button class=\"colab-df-convert\" onclick=\"convertToInteractive('df-b1b1d542-e69c-4a10-b6e0-afbc6286c306')\"\n",
              "              title=\"Convert this dataframe to an interactive table.\"\n",
              "              style=\"display:none;\">\n",
              "        \n",
              "  <svg xmlns=\"http://www.w3.org/2000/svg\" height=\"24px\"viewBox=\"0 0 24 24\"\n",
              "       width=\"24px\">\n",
              "    <path d=\"M0 0h24v24H0V0z\" fill=\"none\"/>\n",
              "    <path d=\"M18.56 5.44l.94 2.06.94-2.06 2.06-.94-2.06-.94-.94-2.06-.94 2.06-2.06.94zm-11 1L8.5 8.5l.94-2.06 2.06-.94-2.06-.94L8.5 2.5l-.94 2.06-2.06.94zm10 10l.94 2.06.94-2.06 2.06-.94-2.06-.94-.94-2.06-.94 2.06-2.06.94z\"/><path d=\"M17.41 7.96l-1.37-1.37c-.4-.4-.92-.59-1.43-.59-.52 0-1.04.2-1.43.59L10.3 9.45l-7.72 7.72c-.78.78-.78 2.05 0 2.83L4 21.41c.39.39.9.59 1.41.59.51 0 1.02-.2 1.41-.59l7.78-7.78 2.81-2.81c.8-.78.8-2.07 0-2.86zM5.41 20L4 18.59l7.72-7.72 1.47 1.35L5.41 20z\"/>\n",
              "  </svg>\n",
              "      </button>\n",
              "      \n",
              "  <style>\n",
              "    .colab-df-container {\n",
              "      display:flex;\n",
              "      flex-wrap:wrap;\n",
              "      gap: 12px;\n",
              "    }\n",
              "\n",
              "    .colab-df-convert {\n",
              "      background-color: #E8F0FE;\n",
              "      border: none;\n",
              "      border-radius: 50%;\n",
              "      cursor: pointer;\n",
              "      display: none;\n",
              "      fill: #1967D2;\n",
              "      height: 32px;\n",
              "      padding: 0 0 0 0;\n",
              "      width: 32px;\n",
              "    }\n",
              "\n",
              "    .colab-df-convert:hover {\n",
              "      background-color: #E2EBFA;\n",
              "      box-shadow: 0px 1px 2px rgba(60, 64, 67, 0.3), 0px 1px 3px 1px rgba(60, 64, 67, 0.15);\n",
              "      fill: #174EA6;\n",
              "    }\n",
              "\n",
              "    [theme=dark] .colab-df-convert {\n",
              "      background-color: #3B4455;\n",
              "      fill: #D2E3FC;\n",
              "    }\n",
              "\n",
              "    [theme=dark] .colab-df-convert:hover {\n",
              "      background-color: #434B5C;\n",
              "      box-shadow: 0px 1px 3px 1px rgba(0, 0, 0, 0.15);\n",
              "      filter: drop-shadow(0px 1px 2px rgba(0, 0, 0, 0.3));\n",
              "      fill: #FFFFFF;\n",
              "    }\n",
              "  </style>\n",
              "\n",
              "      <script>\n",
              "        const buttonEl =\n",
              "          document.querySelector('#df-b1b1d542-e69c-4a10-b6e0-afbc6286c306 button.colab-df-convert');\n",
              "        buttonEl.style.display =\n",
              "          google.colab.kernel.accessAllowed ? 'block' : 'none';\n",
              "\n",
              "        async function convertToInteractive(key) {\n",
              "          const element = document.querySelector('#df-b1b1d542-e69c-4a10-b6e0-afbc6286c306');\n",
              "          const dataTable =\n",
              "            await google.colab.kernel.invokeFunction('convertToInteractive',\n",
              "                                                     [key], {});\n",
              "          if (!dataTable) return;\n",
              "\n",
              "          const docLinkHtml = 'Like what you see? Visit the ' +\n",
              "            '<a target=\"_blank\" href=https://colab.research.google.com/notebooks/data_table.ipynb>data table notebook</a>'\n",
              "            + ' to learn more about interactive tables.';\n",
              "          element.innerHTML = '';\n",
              "          dataTable['output_type'] = 'display_data';\n",
              "          await google.colab.output.renderOutput(dataTable, element);\n",
              "          const docLink = document.createElement('div');\n",
              "          docLink.innerHTML = docLinkHtml;\n",
              "          element.appendChild(docLink);\n",
              "        }\n",
              "      </script>\n",
              "    </div>\n",
              "  </div>\n",
              "  "
            ]
          },
          "metadata": {},
          "execution_count": 5
        }
      ],
      "source": [
        "# Selecting train and test data\n",
        "#xInput = dfPlays[['defendersInBox','quarter','yardsToGo','gameClock_new']]#,'gameClock']]#,'height','s']]\n",
        "\n",
        "plays = dfPlays\n",
        "\n",
        "I_data = plays.loc[plays['passResult']==\"I\"]\n",
        "C_data = plays.loc[plays['passResult']==\"C\"]\n",
        "IN_data = plays.loc[plays['passResult']==\"IN\"]\n",
        "S_data = plays.loc[plays['passResult']==\"S\"]\n",
        "\n",
        "all_data = pd.concat([C_data, I_data, IN_data, S_data], axis=0)\n",
        "\n",
        "labels = np.array([0]*len(C_data)+[1]*len(I_data)+[2]*len(IN_data)+[3]*len(S_data))\n",
        "\n",
        "xInput = all_data[['quarter','down','yardsToGo','absoluteYardlineNumber','gameClock_new']]\n",
        "\n",
        "yInput = labels\n",
        "#yInput.dropna()\n",
        "xInput.head()"
      ]
    },
    {
      "cell_type": "code",
      "source": [
        "#split data into train and test\n",
        "#week1\n",
        "x_train,x_test,y_train,y_test = train_test_split(xInput,yInput,test_size=0.25) #random_state=0\n",
        "#scaling dataset\n",
        "scaler = MinMaxScaler()\n",
        "xTrainScaled = scaler.fit_transform(x_train)\n",
        "xTestScaled = scaler.fit_transform(x_test)\n",
        "\n",
        "print(xTestScaled)"
      ],
      "metadata": {
        "id": "-vriRhrHWzTF",
        "colab": {
          "base_uri": "https://localhost:8080/"
        },
        "outputId": "32e4ae47-5609-477c-9183-84bd08ef3b95"
      },
      "execution_count": 17,
      "outputs": [
        {
          "output_type": "stream",
          "name": "stdout",
          "text": [
            "[[0.5        0.75       0.13333333 0.94897959 0.66666667]\n",
            " [0.25       0.5        0.33333333 0.71428571 0.06666667]\n",
            " [0.25       0.75       0.2        0.13265306 0.93333333]\n",
            " ...\n",
            " [0.75       0.5        0.06666667 0.65306122 0.66666667]\n",
            " [0.5        0.25       0.33333333 0.43877551 0.13333333]\n",
            " [0.25       0.5        0.26666667 0.32653061 0.53333333]]\n"
          ]
        }
      ]
    },
    {
      "cell_type": "code",
      "source": [
        "#select model\n",
        "model = DecisionTreeClassifier(max_depth=15)\n",
        "#train model\n",
        "model.fit(xTrainScaled,y_train)\n",
        "\n",
        "predictions = model.predict(xTrainScaled)\n",
        "#observing performance metrics\n",
        "accuracy = accuracy_score(y_train,predictions)*100\n",
        "print(\"Accuracy of the model is {:.2f}%\".format(accuracy))\n",
        "\n",
        "predictions = model.predict(xTestScaled)\n",
        "#observing performance metrics\n",
        "accuracy = accuracy_score(y_test,predictions)*100\n",
        "print(\"Accuracy of the model is {:.2f}%\".format(accuracy))\n",
        "\n",
        "print(\"-----------------\")\n",
        "print(y_test)\n",
        "print(predictions)\n",
        "print(\"-----------------\")\n",
        "#y_pred = np.argmax(y_test, axis=1)\n",
        "from sklearn import metrics\n",
        "confusion_matrix = metrics.confusion_matrix(y_test, predictions)\n",
        "\n",
        "print(confusion_matrix)"
      ],
      "metadata": {
        "id": "8oB4TgiiWzat",
        "colab": {
          "base_uri": "https://localhost:8080/"
        },
        "outputId": "a8b5f531-af63-46fe-a930-90c3eed2227b"
      },
      "execution_count": 18,
      "outputs": [
        {
          "output_type": "stream",
          "name": "stdout",
          "text": [
            "Accuracy of the model is 82.28%\n",
            "Accuracy of the model is 82.36%\n",
            "-----------------\n",
            "[1 0 3 ... 0 0 1]\n",
            "[1 0 3 ... 0 0 1]\n",
            "-----------------\n",
            "[[437179  16985    826   1769]\n",
            " [ 91132 173066    410   1723]\n",
            " [  6196   1469  10468    500]\n",
            " [ 17824   2674    169  40673]]\n"
          ]
        }
      ]
    },
    {
      "cell_type": "code",
      "source": [
        "data = [[4,4,13,44,7]]\n",
        "\n",
        "scaler = MinMaxScaler()\n",
        "\n",
        "xdata = scaler.fit_transform(data)\n",
        "\n",
        "predictions = model.predict(data)\n",
        "\n",
        "print(predictions)"
      ],
      "metadata": {
        "colab": {
          "base_uri": "https://localhost:8080/"
        },
        "id": "B7rIikQlT9fY",
        "outputId": "64f4c840-9560-4844-ee46-ac62f64a0c71"
      },
      "execution_count": 26,
      "outputs": [
        {
          "output_type": "stream",
          "name": "stdout",
          "text": [
            "[2]\n"
          ]
        }
      ]
    },
    {
      "cell_type": "code",
      "source": [
        "from sklearn import tree\n",
        "text_representation = tree.export_text(model)\n",
        "print(text_representation)"
      ],
      "metadata": {
        "id": "nInp1Gq4vEIW"
      },
      "execution_count": null,
      "outputs": []
    },
    {
      "cell_type": "code",
      "source": [
        "print(model.tree_.max_depth)\n",
        "print(model.tree_.node_count)"
      ],
      "metadata": {
        "colab": {
          "base_uri": "https://localhost:8080/"
        },
        "id": "fhPgyNRjxOjg",
        "outputId": "7a2ea43a-5cbb-4ab5-8626-bd8bf6873d1e"
      },
      "execution_count": 19,
      "outputs": [
        {
          "output_type": "stream",
          "name": "stdout",
          "text": [
            "15\n",
            "1393\n"
          ]
        }
      ]
    }
  ]
}