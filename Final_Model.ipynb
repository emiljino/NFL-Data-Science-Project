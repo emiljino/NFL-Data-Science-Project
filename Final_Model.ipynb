{
  "nbformat": 4,
  "nbformat_minor": 0,
  "metadata": {
    "colab": {
      "provenance": []
    },
    "kernelspec": {
      "name": "python3",
      "display_name": "Python 3"
    },
    "language_info": {
      "name": "python"
    }
  },
  "cells": [
    {
      "cell_type": "code",
      "source": [
        "import numpy as np"
      ],
      "metadata": {
        "id": "zzYoTPJfUiQa"
      },
      "execution_count": 5,
      "outputs": []
    },
    {
      "cell_type": "markdown",
      "source": [
        "**Passing attempt**"
      ],
      "metadata": {
        "id": "U0Qvt9w_Sg34"
      }
    },
    {
      "cell_type": "code",
      "execution_count": 20,
      "metadata": {
        "id": "QHD25cxgSgNa"
      },
      "outputs": [],
      "source": [
        "def pass_eq(O,A,distance):\n",
        "  reward = 6\n",
        "  # eqs\n",
        "  eq1 = (120-O)/120    # horizontal\n",
        "  eq2 = (53.3-A)/53.3  # vertical\n",
        "  eq3 = O/distance    # to go\n",
        "  # solution\n",
        "  outcome = reward*eq1*eq2*eq3\n",
        "  # return\n",
        "  return outcome"
      ]
    },
    {
      "cell_type": "markdown",
      "source": [
        "**Field Goal**"
      ],
      "metadata": {
        "id": "Jl-dPWaYTkOD"
      }
    },
    {
      "cell_type": "code",
      "source": [
        "def fg_eq(distance):\n",
        "  beta0 = 6.7863\n",
        "  beta1 = -0.1102\n",
        "  reward = 3\n",
        "  # equations\n",
        "  eq1 = (np.exp(beta0+beta1*distance))/(1+np.exp(beta0+beta1*distance))\n",
        "  # solution\n",
        "  outcome = reward*eq1\n",
        "  # return\n",
        "  return outcome"
      ],
      "metadata": {
        "id": "2IkPOZGPTkV1"
      },
      "execution_count": 21,
      "outputs": []
    },
    {
      "cell_type": "markdown",
      "source": [
        "**Final model**"
      ],
      "metadata": {
        "id": "HQtpUlOQWWUh"
      }
    },
    {
      "cell_type": "code",
      "source": [
        "def inputs(O,A,distance,down):\n",
        "  # models\n",
        "  pas = pass_eq(O,A,distance)\n",
        "  fg = fg_eq(distance)\n",
        "  punt = 0\n",
        "  if down == 4:\n",
        "    punt = 69\n",
        "  #return\n",
        "  return pas,fg,punt"
      ],
      "metadata": {
        "id": "jO83-Ng1WYTA"
      },
      "execution_count": 34,
      "outputs": []
    },
    {
      "cell_type": "markdown",
      "source": [
        "**Outcomes**"
      ],
      "metadata": {
        "id": "xk0JFS_eURjL"
      }
    },
    {
      "cell_type": "code",
      "source": [
        "# outcomes\n",
        "passing, fieldgoal, punt = inputs(10,10,50,4) \n",
        "\n",
        "# adding\n",
        "outcomes = [passing, fieldgoal, punt]\n",
        "options = [\"Passing\", \"Field goal\", \"Punt\"]\n",
        "\n",
        "# loop\n",
        "print(\"Results\")\n",
        "print(\"-------------------\")\n",
        "for i in range(0,3):\n",
        "  print(options[i],\": \",round(outcomes[i],3))"
      ],
      "metadata": {
        "colab": {
          "base_uri": "https://localhost:8080/"
        },
        "id": "CkIxYCYYTQ2t",
        "outputId": "1000908f-3f9d-4e61-c6d9-81525ff8399b"
      },
      "execution_count": 35,
      "outputs": [
        {
          "output_type": "stream",
          "name": "stdout",
          "text": [
            "Results\n",
            "-------------------\n",
            "Passing :  0.894\n",
            "Field goal :  2.345\n",
            "Punt :  69\n"
          ]
        }
      ]
    }
  ]
}