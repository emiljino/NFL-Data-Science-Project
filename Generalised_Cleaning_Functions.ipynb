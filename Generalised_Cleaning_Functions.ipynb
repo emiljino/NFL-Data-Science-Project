{
  "nbformat": 4,
  "nbformat_minor": 0,
  "metadata": {
    "colab": {
      "provenance": []
    },
    "kernelspec": {
      "name": "python3",
      "display_name": "Python 3"
    },
    "language_info": {
      "name": "python"
    }
  },
  "cells": [
    {
      "cell_type": "code",
      "execution_count": null,
      "metadata": {
        "id": "e5ykrSMdQm2E"
      },
      "outputs": [],
      "source": []
    },
    {
      "cell_type": "markdown",
      "source": [
        "**Generalised cleaning functions- just the methods so will not run in this notebook!!!**"
      ],
      "metadata": {
        "id": "13ZrmP5KQn_e"
      }
    },
    {
      "cell_type": "markdown",
      "source": [
        "this function changes abbreviations to full names"
      ],
      "metadata": {
        "id": "H_eAghRhQu5c"
      }
    },
    {
      "cell_type": "code",
      "source": [
        "def abbrvs(csv,column,abbrv,fullname):\n",
        "  # new names\n",
        "  type_name = []\n",
        "  # looping through\n",
        "  for i in csv[column]:\n",
        "    # filtering out NaN values\n",
        "    if i in abbrv:\n",
        "      index = abbrv.index(i)\n",
        "      type_name.append(fullname[index])\n",
        "    else:\n",
        "      type_name.append(i)\n",
        "  return type_name"
      ],
      "metadata": {
        "id": "dS3hLXu6QvCQ"
      },
      "execution_count": null,
      "outputs": []
    },
    {
      "cell_type": "markdown",
      "source": [
        "how to run"
      ],
      "metadata": {
        "id": "gIlqgfxSQznB"
      }
    },
    {
      "cell_type": "code",
      "source": [
        "# testing function\n",
        "# inputs\n",
        "csv = scouting\n",
        "column = \"kickType\"\n",
        "kick_types = ['D','F','K','O','P','Q','S','B','N','R','A']\n",
        "kick_type_names = ['Deep','Flat','Free','Obvious','Pooch','Squib','Surprise','Deep','Normal','Rugby','Aussie']\n",
        "# calling function\n",
        "kick_type_fullnames = abbrvs(csv,column,kick_types,kick_type_names)\n",
        "# viewing\n",
        "kick_type_fullnames[0:5]"
      ],
      "metadata": {
        "id": "9_B10s8VQzAz"
      },
      "execution_count": null,
      "outputs": []
    },
    {
      "cell_type": "markdown",
      "source": [
        "this function separates team and number values, need to try get rid of [] though"
      ],
      "metadata": {
        "id": "xJD3Ed8URNK0"
      }
    },
    {
      "cell_type": "code",
      "source": [
        "def team_number_splitting(csv,column,symbol):\n",
        "  # splitting to team and number\n",
        "  split_team = []\n",
        "  split_numbers = []\n",
        "  # splitting the data\n",
        "  split = csv[column].str.split(symbol, expand = True)\n",
        "  # loop for each\n",
        "  for i in range(0,len(csv)):\n",
        "    # specific data\n",
        "    split.iloc[i]\n",
        "    # number of NaN\n",
        "    nan_num = split.iloc[i].isna().sum()\n",
        "    if 5-nan_num == 0:\n",
        "      split_team.append(csv[column][i])\n",
        "      split_numbers.append(csv[column][i])\n",
        "    else:\n",
        "      info = []\n",
        "      for j in range(0,(5-nan_num)):\n",
        "        split_i = split[j][i].split(\" \")\n",
        "        info.append(split_i)\n",
        "      # team name\n",
        "      split_team.append(info[0][0])\n",
        "      # numbers\n",
        "      nums = []\n",
        "      for k in range(0,5-nan_num):\n",
        "        num = info[k][1]\n",
        "        nums.append(num)\n",
        "      split_numbers.append(nums)\n",
        "  return split_team,split_numbers"
      ],
      "metadata": {
        "id": "tqPt3omWRNUN"
      },
      "execution_count": null,
      "outputs": []
    },
    {
      "cell_type": "markdown",
      "source": [
        "how to run"
      ],
      "metadata": {
        "id": "ka_RFnKcRNhk"
      }
    },
    {
      "cell_type": "code",
      "source": [
        "# testing\n",
        "# inputs\n",
        "csv = scouting\n",
        "column = \"missedTackler\"\n",
        "symbol = \"; \"\n",
        "# calling function\n",
        "missed_tackler_team, missed_tackler_numbers = team_number_splitting(csv,column,symbol)\n",
        "# looking at data\n",
        "print(missed_tackler_team[0:5])\n",
        "print(missed_tackler_numbers[0:5])"
      ],
      "metadata": {
        "id": "EjuRo9ZURNpj"
      },
      "execution_count": null,
      "outputs": []
    },
    {
      "cell_type": "markdown",
      "source": [
        "this function splits numbers such as dates of play formation"
      ],
      "metadata": {
        "id": "DvoF9mI7RgvS"
      }
    },
    {
      "cell_type": "code",
      "source": [
        "def number_splitting(csv,column,symbol,n):\n",
        "  split = csv[column].str.split(symbol, n = n, expand = True)\n",
        "  return split"
      ],
      "metadata": {
        "id": "am_VqCeMRhTs"
      },
      "execution_count": null,
      "outputs": []
    },
    {
      "cell_type": "markdown",
      "source": [
        "how to run"
      ],
      "metadata": {
        "id": "lGYd7oSjRhev"
      }
    },
    {
      "cell_type": "code",
      "source": [
        "# testing\n",
        "# inputs\n",
        "csv = scouting\n",
        "column = \"kickoffReturnFormation\"\n",
        "symbol = \"-\"\n",
        "n = 2\n",
        "# calling function\n",
        "formation_split = number_splitting(csv,column,symbol,n)\n",
        "# looking at data\n",
        "formation_split.head()"
      ],
      "metadata": {
        "id": "lEl4L7_nRhnU"
      },
      "execution_count": null,
      "outputs": []
    },
    {
      "cell_type": "markdown",
      "source": [
        "pd.to_numeric function"
      ],
      "metadata": {
        "id": "lMKJtdDmTyX8"
      }
    },
    {
      "cell_type": "code",
      "source": [
        "def pd_to_num(csv,split,column_names):\n",
        "  split.columns = column_names\n",
        "  # adding columns\n",
        "  for name in column_names:\n",
        "    csv[name] = pd.to_numeric(split[name])\n",
        "  return"
      ],
      "metadata": {
        "id": "9NYNlwPFT2uL"
      },
      "execution_count": null,
      "outputs": []
    },
    {
      "cell_type": "markdown",
      "source": [
        "how to run"
      ],
      "metadata": {
        "id": "e27AtHG-T22x"
      }
    },
    {
      "cell_type": "code",
      "source": [
        "column_names = ['Front','Mid','Back']\n",
        "csv = scouting\n",
        "column = \"kickoffReturnFormation\"\n",
        "symbol = \"-\"\n",
        "n = 2\n",
        "# calling function\n",
        "formation_split = number_splitting(csv,column,symbol,n)\n",
        "# calling function\n",
        "pd_to_num(csv,formation_split,column_names)\n",
        "# viewing \n",
        "scouting.head()"
      ],
      "metadata": {
        "id": "m1zjOSuOT1N9"
      },
      "execution_count": null,
      "outputs": []
    },
    {
      "cell_type": "markdown",
      "source": [
        "height cleaning"
      ],
      "metadata": {
        "id": "cHhRxCamSCCh"
      }
    },
    {
      "cell_type": "code",
      "source": [
        "# splitting the heights\n",
        "height_split = players[\"height\"].str.split(\"-\", n = 1, expand = True)\n",
        "# new column names\n",
        "height_split.columns = ['Feet', 'Inch']\n",
        "# adding new columns\n",
        "players[\"height_feet\"] = pd.to_numeric(height_split[\"Feet\"])\n",
        "players[\"height_inch\"] = pd.to_numeric(height_split[\"Inch\"])\n",
        "# still have 73 feet\n",
        "# getting rid of NaN values\n",
        "players[\"height_inch\"] = players[\"height_inch\"].fillna(0)\n",
        "# replacing heights that did not have '-' at start\n",
        "for i in players[\"height_feet\"]:\n",
        "    if i > 7:\n",
        "        j = 0.0833333 * i\n",
        "        players[\"height_feet\"].replace({i : j}, inplace=True)        \n",
        "# inches to numerical value\n",
        "players[\"height_inch\"] = 0.0833333 * players[\"height_inch\"]\n",
        "# adding feet and inches to get one value\n",
        "height_numerical = players[\"height_feet\"] + players[\"height_inch\"]\n",
        "# adding new numerical value column\n",
        "players[\"height_numerical\"] = pd.to_numeric(height_numerical)\n",
        "# new look at data\n",
        "players[['height','height_numerical']].head()"
      ],
      "metadata": {
        "id": "l388ZQ1gR6uD"
      },
      "execution_count": null,
      "outputs": []
    },
    {
      "cell_type": "markdown",
      "source": [
        "birth date cleaning"
      ],
      "metadata": {
        "id": "pdHJ68FCR65P"
      }
    },
    {
      "cell_type": "code",
      "source": [
        "# splitting the numbers\n",
        "players['birth_year'] = pd.DatetimeIndex(players['birthDate']).year\n",
        "# new look at data\n",
        "players[['birthDate','birth_year']].head()"
      ],
      "metadata": {
        "id": "ogQmspyLR8Us"
      },
      "execution_count": null,
      "outputs": []
    }
  ]
}